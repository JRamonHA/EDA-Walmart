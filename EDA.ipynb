{
 "cells": [
  {
   "cell_type": "code",
   "execution_count": 1,
   "id": "88f0e04c",
   "metadata": {},
   "outputs": [],
   "source": [
    "import pandas as pd"
   ]
  },
  {
   "cell_type": "code",
   "execution_count": null,
   "id": "c226e1aa",
   "metadata": {},
   "outputs": [],
   "source": [
    "calendar = pd.read_parquet('data/calendar.parquet')\n",
    "train = pd.read_parquet('data/sales_train.parquet')\n",
    "prices = pd.read_parquet('data/sell_prices.parquet')\n",
    "sample_submit = pd.read_parquet('data/sample_submission.parquet')"
   ]
  }
 ],
 "metadata": {
  "kernelspec": {
   "display_name": "ventagium (3.12.10)",
   "language": "python",
   "name": "python3"
  },
  "language_info": {
   "codemirror_mode": {
    "name": "ipython",
    "version": 3
   },
   "file_extension": ".py",
   "mimetype": "text/x-python",
   "name": "python",
   "nbconvert_exporter": "python",
   "pygments_lexer": "ipython3",
   "version": "3.12.10"
  }
 },
 "nbformat": 4,
 "nbformat_minor": 5
}
